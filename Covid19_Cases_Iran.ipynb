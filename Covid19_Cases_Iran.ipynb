{
  "nbformat": 4,
  "nbformat_minor": 0,
  "metadata": {
    "colab": {
      "name": "Covid19_Cases_Iran.ipynb",
      "provenance": [],
      "authorship_tag": "ABX9TyMHlwNsonN50QfEstrXzZ/V"
    },
    "kernelspec": {
      "name": "python3",
      "display_name": "Python 3"
    }
  },
  "cells": [
    {
      "cell_type": "markdown",
      "metadata": {
        "id": "-1Bw0HhC2Otk",
        "colab_type": "text"
      },
      "source": [
        "This document is a try to give an insight to the Corona related data for Iran.\n",
        "\n",
        "It will be combination of data processing, analysis, visualization, and reporting. \n",
        "\n",
        "The main source of data is https://github.com/javadch/covid19/\n",
        "\n",
        "This document is maintained by [Javad Chamanara](https://www.rd-alliance.org/users/javad-chamanara)\n"
      ]
    },
    {
      "cell_type": "code",
      "metadata": {
        "id": "m_XLfEE53nZP",
        "colab_type": "code",
        "colab": {}
      },
      "source": [
        "import pandas as pd\n",
        "import requests\n",
        "import io\n",
        "\n",
        "# Loading data from the CSV version of the COVID-19-Iran dataset from GitHub\n",
        "url = 'https://raw.githubusercontent.com/javadch/covid19/master/data/ir/Covid19_Cases_Iran.csv'\n",
        "# receives the content of the URL\n",
        "content=requests.get(url).content\n",
        "# Internbally reconstructs the CSV format and transforms it to a data frame\n",
        "data=pd.read_csv(io.StringIO(content.decode('utf-8')))\n",
        "# print(data)\n"
      ],
      "execution_count": 0,
      "outputs": []
    },
    {
      "cell_type": "markdown",
      "metadata": {
        "id": "iDZ_VHxulWIo",
        "colab_type": "text"
      },
      "source": [
        "Based on the `data`, the `comulative sum` of the `confirmed`, `death`, and `recovered` cases are calulated.\n",
        "For that purpose, first the four columns `Date`, `Confirmed`, `Deaths`, ands `Recovered` are factored out from the original data and copied into the `cases` dataframe. Then, the cumulative sum is applied on them and added to the `cases` dataframe as new columns.\n",
        "\n",
        "At this point, the data should be ready for consumptiom. However, no data quality check has been carried out."
      ]
    },
    {
      "cell_type": "code",
      "metadata": {
        "id": "DFXoRfnCcDgA",
        "colab_type": "code",
        "colab": {
          "base_uri": "https://localhost:8080/",
          "height": 502
        },
        "outputId": "4116c447-1dfd-4a87-f784-260e009fa934"
      },
      "source": [
        "\n",
        "cases = data[['Date', 'Confirmed', 'Deaths', 'Recovered']].copy()\n",
        "cases['Confirmed_cs'] = pd.Series(cases['Confirmed'].cumsum()) \n",
        "cases['Deaths_cs'] = pd.Series(cases['Deaths'].cumsum()) \n",
        "cases['Recovered_cs'] = pd.Series(cases['Recovered'].cumsum()) \n",
        "\n",
        "print(cases)"
      ],
      "execution_count": 42,
      "outputs": [
        {
          "output_type": "stream",
          "text": [
            "          Date  Confirmed  Deaths  ...  Confirmed_cs  Deaths_cs  Recovered_cs\n",
            "0   2020/02/19          2     2.0  ...             2        2.0           0.0\n",
            "1   2020/02/20          3     NaN  ...             5        NaN           NaN\n",
            "2   2020/02/21         13     2.0  ...            18        4.0           NaN\n",
            "3   2020/02/22         10     2.0  ...            28        6.0           NaN\n",
            "4   2020/02/23         15     2.0  ...            43        8.0           NaN\n",
            "5   2020/02/24         18     4.0  ...            61       12.0           NaN\n",
            "6   2020/02/25         34     3.0  ...            95       15.0           NaN\n",
            "7   2020/02/26         44     4.0  ...           139       19.0           NaN\n",
            "8   2020/02/27        106     7.0  ...           245       26.0           NaN\n",
            "9   2020/02/28        143     8.0  ...           388       34.0           NaN\n",
            "10  2020/02/29        205     9.0  ...           593       43.0           NaN\n",
            "11  2020/03/01        385    11.0  ...           978       54.0           NaN\n",
            "12  2020/03/02        523    11.0  ...          1501       65.0           NaN\n",
            "13  2020/03/03        835    11.0  ...          2336       76.0           NaN\n",
            "14  2020/03/04        586    15.0  ...          2922       91.0           NaN\n",
            "15  2020/03/05        591    15.0  ...          3513      106.0           NaN\n",
            "16  2020/03/06       1234    17.0  ...          4747      123.0           NaN\n",
            "17  2020/03/07       1076    21.0  ...          5823      144.0           NaN\n",
            "18  2020/03/08        743    49.0  ...          6566      193.0           NaN\n",
            "19  2020/03/09        595    43.0  ...          7161      236.0           NaN\n",
            "20  2020/03/10        881    54.0  ...          8042      290.0           NaN\n",
            "21  2020/03/11        958    63.0  ...          9000      353.0           NaN\n",
            "22  2020/03/12       1075    75.0  ...         10075      428.0           NaN\n",
            "23  2020/03/13       1289    85.0  ...         11364      513.0           NaN\n",
            "24  2020/03/14       1365    97.0  ...         12729      610.0           NaN\n",
            "\n",
            "[25 rows x 7 columns]\n"
          ],
          "name": "stdout"
        }
      ]
    }
  ]
}